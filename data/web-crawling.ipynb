{
 "cells": [
  {
   "cell_type": "code",
   "execution_count": 10,
   "metadata": {},
   "outputs": [],
   "source": [
    "# Import dependencies\n",
    "from bs4 import BeautifulSoup\n",
    "import requests\n",
    "from urllib.parse import quote"
   ]
  },
  {
   "cell_type": "code",
   "execution_count": 19,
   "metadata": {},
   "outputs": [],
   "source": [
    "class GoogleSpider(object):\n",
    "    def __init__(self):\n",
    "        \"\"\"Crawl Google search results\n",
    "\n",
    "        This class is used to crawl Google's search results using requests and BeautifulSoup.\n",
    "        \"\"\"\n",
    "        super().__init__()\n",
    "        self.headers = {\n",
    "            'User-Agent': 'Mozilla/5.0 (Macintosh; Intel Mac OS X 10.14; rv:79.0) Gecko/20100101 Firefox/79.0',\n",
    "            'Host': 'www.google.com',\n",
    "            'Referer': 'https://www.google.com/'\n",
    "        }\n",
    "\n",
    "    def __get_source(self, url: str) -> requests.Response:\n",
    "        \"\"\"Get the web page's source code\n",
    "\n",
    "        Args:\n",
    "            url (str): The URL to crawl\n",
    "\n",
    "        Returns:\n",
    "            requests.Response: The response from URL\n",
    "        \"\"\"\n",
    "        return requests.get(url, headers=self.headers)\n",
    "\n",
    "    def search(self, query: str) -> list:\n",
    "        \"\"\"Search Google\n",
    "\n",
    "        Args:\n",
    "            query (str): The query to search for\n",
    "\n",
    "        Returns:\n",
    "            list: The search results\n",
    "        \"\"\"\n",
    "        # Get response\n",
    "        response = self.__get_source('https://www.google.com/search?q=%s' % quote(query))\n",
    "        # Initialize BeautifulSoup\n",
    "        soup = BeautifulSoup(response.text, 'html.parser')\n",
    "        # Get the result containers\n",
    "        result_containers = soup.findAll('div', class_='rc')\n",
    "        # Final results list\n",
    "        results = []\n",
    "        # Loop through every container\n",
    "        for container in result_containers:\n",
    "            # Result title\n",
    "            title = container.find('h3').text\n",
    "            # Result URL\n",
    "            url = container.find('a')['href']\n",
    "            # Result description\n",
    "            des = container.find('span', class_='aCOpRe').text\n",
    "            results.append({\n",
    "                'title': title,\n",
    "                'url': url,\n",
    "                'des': des\n",
    "            })\n",
    "        return results"
   ]
  },
  {
   "cell_type": "code",
   "execution_count": 24,
   "metadata": {},
   "outputs": [
    {
     "name": "stdout",
     "output_type": "stream",
     "text": [
      "[{'title': 'SQL Introduction - W3Schools', 'url': 'https://www.w3schools.com/sql/sql_intro.asp', 'des': ''}, {'title': 'SQL Tutorial - W3Schools', 'url': 'https://www.w3schools.com/sql/', 'des': 'SQL is a standard language for storing, manipulating and retrieving data in databases. Our SQL tutorial will teach you how to use SQL in: MySQL, SQL Server, MS Access, Oracle, Sybase, Informix, Postgres, and other database systems.'}, {'title': '3 เหตุผลที่ทุกคนควรเริ่มหัดเขียน SQL | by Ta Virot ... - Medium', 'url': 'https://medium.com/skooldio/3-%E0%B9%80%E0%B8%AB%E0%B8%95%E0%B8%B8%E0%B8%9C%E0%B8%A5%E0%B8%97%E0%B8%B5%E0%B9%88%E0%B8%97%E0%B8%B8%E0%B8%81%E0%B8%84%E0%B8%99%E0%B8%84%E0%B8%A7%E0%B8%A3%E0%B9%80%E0%B8%A3%E0%B8%B4%E0%B9%88%E0%B8%A1%E0%B8%AB%E0%B8%B1%E0%B8%94%E0%B9%80%E0%B8%82%E0%B8%B5%E0%B8%A2%E0%B8%99-sql-902ad76e3ab7', 'des': '22 เม.ย. 2562 — SQL หรือ Structured Query Language (จะอ่านออกเสียงว่า S-Q-L หรือ Sequel ก็ได้) เป็นภาษาคอมพิวเตอร์ที่ใช้ในการทำงานกับฐานข้อมูล\\xa0...'}, {'title': 'รวมคำสั่ง SQL Command พื้นฐานเบื้องต้น (Basic SQL Tutorial ...', 'url': 'https://saixiii.com/sql-command/', 'des': 'SQL Syntax. ภาษา SQL ถูกแบ่งออกมาเป็นส่วนประกอบต่างๆ เราเรียกส่วนเหล่านี้ตามรูปแบบเช่น. Clauses คือองค์ประกอบหนึ่งของ statement และ query\\xa0...'}, {'title': 'ฝึกเขียน SQL ใน 10 นาที – ตอนที่ 1 | DataRockie', 'url': 'https://datarockie.com/2018/11/08/understand-basic-sql-in-10-min/', 'des': '8 พ.ย. 2561 — ฝึกเขียน basic SQL ภายใน 10 นาที เข้าใจการใช้งาน SELECT, WHERE และ JOIN เพื่อดึงข้อมูลที่เราต้องการจาก database ง่ายๆ.'}, {'title': 'SQL Tutorial: Learn SQL For Free | Codecademy', 'url': 'https://www.codecademy.com/learn/learn-sql', 'des': 'Learn SQL - a language used to communicate with databases using SQL and learn how to write SQL queries.'}, {'title': 'Intro to SQL: Querying and managing data | Khan Academy', 'url': 'https://www.khanacademy.org/computing/computer-programming/sql', 'des': 'Learn how to use SQL to store, query, and manipulate data. SQL is a special-purpose programming language designed for managing data in a relational\\xa0...'}, {'title': 'Lesson 1: What is SQL? - SQLCourse', 'url': 'http://www.sqlcourse.com/intro.html', 'des': 'SQL (pronounced \"ess-que-el\") stands for Structured Query Language. SQL is used to communicate with a database. According to ANSI (American National\\xa0...'}, {'title': 'What is SQL? The lingua franca of data analysis | InfoWorld', 'url': 'https://www.infoworld.com/article/3219795/what-is-sql-the-lingua-franca-of-data-analysis.html', 'des': \"1 พ.ย. 2562 — SQL is neither the fastest nor the most elegant way to talk to databases, but it is the best way we have. Here's why.\"}]\n"
     ]
    }
   ],
   "source": [
    "if __name__ == '__main__':\n",
    "    print(GoogleSpider().search(\"sql\"))"
   ]
  },
  {
   "cell_type": "code",
   "execution_count": null,
   "metadata": {},
   "outputs": [],
   "source": []
  }
 ],
 "metadata": {
  "kernelspec": {
   "display_name": "Python 3",
   "language": "python",
   "name": "python3"
  },
  "language_info": {
   "codemirror_mode": {
    "name": "ipython",
    "version": 3
   },
   "file_extension": ".py",
   "mimetype": "text/x-python",
   "name": "python",
   "nbconvert_exporter": "python",
   "pygments_lexer": "ipython3",
   "version": "3.8.5"
  }
 },
 "nbformat": 4,
 "nbformat_minor": 4
}
